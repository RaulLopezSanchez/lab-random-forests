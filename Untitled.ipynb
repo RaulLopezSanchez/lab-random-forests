{
 "cells": [
  {
   "cell_type": "code",
   "execution_count": 7,
   "id": "4d6c56f8",
   "metadata": {},
   "outputs": [
    {
     "name": "stdout",
     "output_type": "stream",
     "text": [
      "Accuracy del modelo inicial: 0.95\n"
     ]
    }
   ],
   "source": [
    "import pandas as pd\n",
    "from sklearn.preprocessing import LabelEncoder, StandardScaler\n",
    "from sklearn.model_selection import train_test_split\n",
    "from sklearn.linear_model import LogisticRegression\n",
    "from sklearn.metrics import accuracy_score\n",
    "\n",
    "# Cargar los archivos\n",
    "categorical_data = pd.read_csv('files_for_lab/categorical.csv')\n",
    "numerical_data = pd.read_csv('files_for_lab/numerical.csv')\n",
    "target_data = pd.read_csv('files_for_lab/target.csv')\n",
    "\n",
    "# Combinar los datos\n",
    "churnData = pd.concat([categorical_data, numerical_data, target_data], axis=1)\n",
    "\n",
    "# Codificar variables categóricas\n",
    "categorical_columns = ['STATE', 'CLUSTER', 'HOMEOWNR', 'GENDER', 'DATASRCE', 'RFA_2R', 'RFA_2A', 'GEOCODE2', 'DOMAIN_A', 'DOMAIN_B']\n",
    "label_encoder = LabelEncoder()\n",
    "for col in categorical_columns:\n",
    "    churnData[col] = label_encoder.fit_transform(churnData[col])\n",
    "\n",
    "# Seleccionar y escalar características\n",
    "features = list(numerical_data.columns)  # Usar todas las columnas numéricas como características\n",
    "X = churnData[features]\n",
    "scaler = StandardScaler()\n",
    "X_scaled = scaler.fit_transform(X)\n",
    "\n",
    "# Dividir los datos en conjuntos de entrenamiento y prueba\n",
    "y = churnData['TARGET_B']  # Usamos 'TARGET_B' como variable objetivo\n",
    "X_train, X_test, y_train, y_test = train_test_split(X_scaled, y, test_size=0.2, random_state=42)\n",
    "\n",
    "# Construir y evaluar el modelo inicial\n",
    "model = LogisticRegression(max_iter=1000)  # Aumentar el número máximo de iteraciones\n",
    "model.fit(X_train, y_train)\n",
    "y_pred = model.predict(X_test)\n",
    "accuracy = accuracy_score(y_test, y_pred)\n",
    "print(f\"Accuracy del modelo inicial: {accuracy:.2f}\")\n"
   ]
  },
  {
   "cell_type": "code",
   "execution_count": null,
   "id": "938020d0",
   "metadata": {},
   "outputs": [],
   "source": []
  }
 ],
 "metadata": {
  "kernelspec": {
   "display_name": "Python 3 (ipykernel)",
   "language": "python",
   "name": "python3"
  },
  "language_info": {
   "codemirror_mode": {
    "name": "ipython",
    "version": 3
   },
   "file_extension": ".py",
   "mimetype": "text/x-python",
   "name": "python",
   "nbconvert_exporter": "python",
   "pygments_lexer": "ipython3",
   "version": "3.9.13"
  }
 },
 "nbformat": 4,
 "nbformat_minor": 5
}
